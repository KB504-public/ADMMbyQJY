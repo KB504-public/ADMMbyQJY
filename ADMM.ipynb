{
 "cells": [
  {
   "cell_type": "code",
   "execution_count": null,
   "metadata": {},
   "outputs": [],
   "source": [
    "import os\n",
    "os.environ[\"KMP_DUPLICATE_LIB_OK\"]=\"TRUE\"\n",
    "\n",
    "from src.admm_model import ADMM_Net\n",
    "from src.fn import *\n",
    "import torch\n",
    "import warnings\n",
    "\n",
    "# 屏蔽所有 UserWarning\n",
    "warnings.filterwarnings(\"ignore\", category=UserWarning)\n",
    "\n",
    "device = 'cuda:0' if torch.cuda.is_available() else 'cpu'\n",
    "print(f'Using device: {device}')"
   ]
  },
  {
   "cell_type": "code",
   "execution_count": null,
   "metadata": {},
   "outputs": [],
   "source": [
    "psf_file = r'.\\data\\psf.tiff'\n",
    "measurement = r\".\\data\\measurement.png\"\n",
    "\n",
    "psf_resized = load_and_downsample_normal2_image(\n",
    "    psf_file,\n",
    "    downsample=4,\n",
    "    mode=\"gray\",\n",
    "    remove_bg=True,\n",
    "    normalize=True,\n",
    "    visualize=False\n",
    ")\n",
    "measurement_resized = load_and_downsample_normal2_image(\n",
    "    measurement,\n",
    "    downsample=1,\n",
    "    mode=\"rgb\",\n",
    "    remove_bg=False,\n",
    "    normalize=True,\n",
    "    visualize=False\n",
    ")\n",
    "measurement_resized = measurement_resized.transpose((2, 0, 1))  # 转为 (C, H, W)\n",
    "\n",
    "print(f\"psf_resized: shape={psf_resized.shape}, dtype={psf_resized.dtype}, min={psf_resized.min():.3f}, max={psf_resized.max():.3f}\")\n",
    "print(f\"measurement_resized: shape={measurement_resized.shape}, dtype={measurement_resized.dtype}, min={measurement_resized.min():.3f}, max={measurement_resized.max():.3f}\")\n"
   ]
  },
  {
   "cell_type": "code",
   "execution_count": null,
   "metadata": {},
   "outputs": [],
   "source": [
    "iterations  = 100\n",
    "tau_scale   = 1000\n",
    "\n",
    "input_tensor = (\n",
    "    torch.from_numpy(measurement_resized.copy())\n",
    "    .float()\n",
    "    .unsqueeze(0)\n",
    "    .to(device)\n",
    ")\n",
    "\n",
    "admm_net = ADMM_Net(psf_resized, iterations, device)\n",
    "admm_net.tau.data *= tau_scale\n",
    "admm_net.to(device)\n",
    "\n",
    "admm_net.eval()\n",
    "with torch.no_grad():\n",
    "    output_tensor = admm_net(input_tensor)\n",
    "\n",
    "print(f\"input Tensor: shape={input_tensor.shape}, dtype={input_tensor.dtype}, min={input_tensor.min():.3f}, max={input_tensor.max():.3f}\")\n",
    "print(f\"output Tensor: shape={output_tensor.shape}, dtype={output_tensor.dtype}, min={output_tensor.min():.3f}, max={output_tensor.max():.3f}\")\n",
    "\n",
    "reconstruction = output_tensor[0].cpu().numpy().transpose(1, 2, 0)"
   ]
  },
  {
   "cell_type": "code",
   "execution_count": null,
   "metadata": {},
   "outputs": [],
   "source": [
    "ground_truth_file = r\".\\data\\ground_truth.png\"  # 如果没有可设为 None\n",
    "\n",
    "visualize_reconstruction(\n",
    "    psf_resized=psf_resized,\n",
    "    measurement_resized=np.clip(measurement_resized.transpose(1, 2, 0) / measurement_resized.max(), 0, 1),\n",
    "    reconstruction=reconstruction,\n",
    "    ground_truth_file=ground_truth_file,\n",
    "    iterations=iterations\n",
    ")\n"
   ]
  }
 ],
 "metadata": {
  "kernelspec": {
   "display_name": "lensless_env",
   "language": "python",
   "name": "python3"
  },
  "language_info": {
   "codemirror_mode": {
    "name": "ipython",
    "version": 3
   },
   "file_extension": ".py",
   "mimetype": "text/x-python",
   "name": "python",
   "nbconvert_exporter": "python",
   "pygments_lexer": "ipython3",
   "version": "3.7.12"
  }
 },
 "nbformat": 4,
 "nbformat_minor": 2
}
